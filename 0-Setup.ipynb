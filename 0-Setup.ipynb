{
 "cells": [
  {
   "cell_type": "code",
   "execution_count": 2,
   "metadata": {
    "collapsed": false
   },
   "outputs": [],
   "source": [
    "required_packages = c(\"devtools\", \"ggplot2\", \"reshape2\", \"gridExtra\", \"mlr\", \"dplyr\", \"ParamHelpers\")\n",
    "if (length(setdiff(required_packages, rownames(installed.packages()))) > 0) {\n",
    " install.packages(setdiff(required_packages, rownames(installed.packages())))\n",
    "}"
   ]
  },
  {
   "cell_type": "code",
   "execution_count": 3,
   "metadata": {
    "collapsed": false
   },
   "outputs": [],
   "source": [
    "#devtools::install_github(\"berndbischl/ParamHelpers\")"
   ]
  },
  {
   "cell_type": "code",
   "execution_count": null,
   "metadata": {
    "collapsed": false
   },
   "outputs": [
    {
     "name": "stderr",
     "output_type": "stream",
     "text": [
      "Downloading GitHub repo openml/r@16b8cb1542e4aff8c1f8e6f6347871cfce7df38e\n",
      "from URL https://api.github.com/repos/openml/r/zipball/16b8cb1542e4aff8c1f8e6f6347871cfce7df38e\n",
      "Installing OpenML\n",
      "Skipping 1 package ahead of CRAN: ParamHelpers\n",
      "Installing 2 packages: Rcpp, stringi\n",
      "Warning message:\n",
      "In utils::install.packages(pkgs, repos = repos, type = type, dependencies = dependencies, : installation of package ‘Rcpp’ had non-zero exit status"
     ]
    }
   ],
   "source": [
    "devtools::install_github(\"openml/r\", ref = \"f958f1e68d3cbd23a87d65b6bf166ae40ed051b4\")"
   ]
  },
  {
   "cell_type": "code",
   "execution_count": 10,
   "metadata": {
    "collapsed": false
   },
   "outputs": [
    {
     "name": "stderr",
     "output_type": "stream",
     "text": [
      "Downloading GitHub repo mlr-org/farff@master\n",
      "from URL https://api.github.com/repos/mlr-org/farff/zipball/master\n",
      "Installing farff\n",
      "Installing 3 packages: hms, Rcpp, stringi\n",
      "Warning message:\n",
      "In utils::install.packages(pkgs, repos = repos, type = type, dependencies = dependencies, : installation of package ‘Rcpp’ had non-zero exit statusWarning message:\n",
      "In utils::install.packages(pkgs, repos = repos, type = type, dependencies = dependencies, : installation of package ‘stringi’ had non-zero exit statusUpdating HTML index of packages in '.Library'\n",
      "Making 'packages.html' ... done\n",
      "'/opt/conda/lib/R/bin/R' --no-site-file --no-environ --no-save --no-restore  \\\n",
      "  --quiet CMD INSTALL  \\\n",
      "  '/tmp/RtmpaNWpyR/devtools1479abf665/mlr-org-farff-a07187b'  \\\n",
      "  --library='/opt/conda/lib/R/library' --install-tests \n",
      "\n"
     ]
    }
   ],
   "source": [
    "devtools::install_github(\"mlr-org/farff\")"
   ]
  },
  {
   "cell_type": "code",
   "execution_count": 4,
   "metadata": {
    "collapsed": false
   },
   "outputs": [
    {
     "name": "stderr",
     "output_type": "stream",
     "text": [
      "Loading required package: mlr\n",
      "Loading required package: BBmisc\n",
      "Loading required package: stringi\n"
     ]
    }
   ],
   "source": [
    "library(\"ggplot2\")\n",
    "library(\"reshape2\")\n",
    "library(\"gridExtra\")\n",
    "library(\"repr\")\n",
    "library(\"ParamHelpers\")\n",
    "library(\"OpenML\")\n"
   ]
  },
  {
   "cell_type": "code",
   "execution_count": null,
   "metadata": {
    "collapsed": true
   },
   "outputs": [],
   "source": []
  }
 ],
 "metadata": {
  "kernelspec": {
   "display_name": "R",
   "language": "R",
   "name": "ir"
  },
  "language_info": {
   "codemirror_mode": "r",
   "file_extension": ".r",
   "mimetype": "text/x-r-source",
   "name": "R",
   "pygments_lexer": "r",
   "version": "3.3.1"
  }
 },
 "nbformat": 4,
 "nbformat_minor": 1
}
