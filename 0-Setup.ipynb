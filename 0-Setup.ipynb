{
 "cells": [
  {
   "cell_type": "code",
   "execution_count": 1,
   "metadata": {
    "collapsed": false
   },
   "outputs": [
    {
     "name": "stderr",
     "output_type": "stream",
     "text": [
      "Updating HTML index of packages in '.Library'\n",
      "Making 'packages.html' ... done\n"
     ]
    }
   ],
   "source": [
    "required_packages = c(\"devtools\", \"ggplot2\", \"reshape2\", \"gridExtra\", \"mlr\", \"dplyr\", \"ParamHelpers\")\n",
    "if (length(setdiff(required_packages, rownames(installed.packages()))) > 0) {\n",
    " install.packages(setdiff(required_packages, rownames(installed.packages())))\n",
    "}"
   ]
  },
  {
   "cell_type": "code",
   "execution_count": 3,
   "metadata": {
    "collapsed": false
   },
   "outputs": [],
   "source": [
    "#devtools::install_github(\"berndbischl/ParamHelpers\")"
   ]
  },
  {
   "cell_type": "code",
   "execution_count": 2,
   "metadata": {
    "collapsed": false
   },
   "outputs": [
    {
     "name": "stderr",
     "output_type": "stream",
     "text": [
      "Loading required package: mlr\n",
      "Loading required package: BBmisc\n",
      "Loading required package: stringi\n",
      "Please use the 'setOMLConfig' or 'saveOMLConfig' function to set the API key.\n",
      "You can generate the API key from your OpenML account at http://www.openml.org/u#!api\n"
     ]
    }
   ],
   "source": [
    "library(\"ggplot2\")\n",
    "library(\"reshape2\")\n",
    "library(\"gridExtra\")\n",
    "library(\"repr\")\n",
    "library(\"ParamHelpers\")\n",
    "library(\"OpenML\")\n"
   ]
  },
  {
   "cell_type": "code",
   "execution_count": null,
   "metadata": {
    "collapsed": true
   },
   "outputs": [],
   "source": []
  }
 ],
 "metadata": {
  "kernelspec": {
   "display_name": "R",
   "language": "R",
   "name": "ir"
  },
  "language_info": {
   "codemirror_mode": "r",
   "file_extension": ".r",
   "mimetype": "text/x-r-source",
   "name": "R",
   "pygments_lexer": "r",
   "version": "3.3.1"
  }
 },
 "nbformat": 4,
 "nbformat_minor": 1
}
